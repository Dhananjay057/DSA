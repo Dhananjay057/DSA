{
 "cells": [
  {
   "cell_type": "markdown",
   "id": "3b0c2321",
   "metadata": {},
   "source": [
    "#### 1. Kadane's Algorithm : Maximum Subarray Sum in an Array"
   ]
  },
  {
   "cell_type": "markdown",
   "id": "b384dd62",
   "metadata": {
    "vscode": {
     "languageId": "plaintext"
    }
   },
   "source": [
    "Problem Statement: Given an integer array arr, find the contiguous subarray (containing at least one number) which\n",
    "has the largest sum and returns its sum and prints the subarray.\n",
    "\n",
    "Example 1:\n",
    "\n",
    "Input: arr = [-2,1,-3,4,-1,2,1,-5,4] \n",
    "\n",
    "Output: 6 \n",
    "\n",
    "Explanation: [4,-1,2,1] has the largest sum = 6. \n",
    "\n",
    "Examples 2: \n",
    "\n",
    "Input: arr = [1] \n",
    "\n",
    "Output: 1 \n",
    "\n",
    "Explanation: Array has only one element and which is giving positive sum of 1. "
   ]
  },
  {
   "cell_type": "code",
   "execution_count": null,
   "id": "124c922c",
   "metadata": {},
   "outputs": [
    {
     "name": "stdout",
     "output_type": "stream",
     "text": [
      "6\n"
     ]
    }
   ],
   "source": [
    "# Brute force  (O)->n^3.\n",
    "import sys\n",
    "arr = [-2,1,-3,4,-1,2,1,-5,4] \n",
    "maxi= -sys.maxsize-1\n",
    "\n",
    "for i in range(len(arr)):\n",
    "    for j in range(i,len(arr)):\n",
    "        sum = 0\n",
    "\n",
    "        for k in range(i,j+1):\n",
    "            sum = sum + arr[k]\n",
    "        \n",
    "        maxi = max(sum,maxi)    \n",
    "print(maxi)"
   ]
  },
  {
   "cell_type": "code",
   "execution_count": 44,
   "id": "b214fa60",
   "metadata": {},
   "outputs": [
    {
     "name": "stdout",
     "output_type": "stream",
     "text": [
      "6\n"
     ]
    }
   ],
   "source": [
    "# better approach (O)-> n^2.\n",
    "\n",
    "def maxsubarray_sum(arr,n):\n",
    "    maxi = -sys.maxsize-1\n",
    "\n",
    "    for i in range(n):\n",
    "        sum = 0\n",
    "        for j in range(i,n):\n",
    "\n",
    "            sum = sum + arr[j]\n",
    "\n",
    "            maxi= max(sum,maxi)\n",
    "    \n",
    "    return maxi\n",
    "\n",
    "arr = [-2,1,-3,4,-1,2,1,-5,4] \n",
    "n=9\n",
    "res = maxsubarray_sum(arr,n)\n",
    "print(res)\n"
   ]
  },
  {
   "cell_type": "code",
   "execution_count": 45,
   "id": "91aeb2ea",
   "metadata": {},
   "outputs": [
    {
     "name": "stdout",
     "output_type": "stream",
     "text": [
      "-2\n",
      "1\n",
      "-3\n",
      "4\n",
      "-1\n",
      "2\n",
      "1\n",
      "-5\n",
      "4\n",
      "1\n",
      "-3\n",
      "4\n",
      "-1\n",
      "2\n",
      "1\n",
      "-5\n",
      "4\n",
      "-3\n",
      "4\n",
      "-1\n",
      "2\n",
      "1\n",
      "-5\n",
      "4\n",
      "4\n",
      "-1\n",
      "2\n",
      "1\n",
      "-5\n",
      "4\n",
      "-1\n",
      "2\n",
      "1\n",
      "-5\n",
      "4\n",
      "2\n",
      "1\n",
      "-5\n",
      "4\n",
      "1\n",
      "-5\n",
      "4\n",
      "-5\n",
      "4\n",
      "4\n"
     ]
    }
   ],
   "source": [
    "arr = [-2,1,-3,4,-1,2,1,-5,4] \n",
    "n=len(arr)\n",
    "for i in range(n):\n",
    "        sum = 0\n",
    "        for j in range(i,n):\n",
    "              print(arr[j])"
   ]
  },
  {
   "cell_type": "code",
   "execution_count": null,
   "id": "7432eb45",
   "metadata": {},
   "outputs": [],
   "source": []
  },
  {
   "cell_type": "code",
   "execution_count": null,
   "id": "0bdc76b1",
   "metadata": {},
   "outputs": [],
   "source": []
  },
  {
   "cell_type": "code",
   "execution_count": null,
   "id": "a34cfb25",
   "metadata": {},
   "outputs": [],
   "source": []
  },
  {
   "cell_type": "code",
   "execution_count": null,
   "id": "154d6cf2",
   "metadata": {},
   "outputs": [],
   "source": []
  }
 ],
 "metadata": {
  "kernelspec": {
   "display_name": ".venv (3.13.2)",
   "language": "python",
   "name": "python3"
  },
  "language_info": {
   "codemirror_mode": {
    "name": "ipython",
    "version": 3
   },
   "file_extension": ".py",
   "mimetype": "text/x-python",
   "name": "python",
   "nbconvert_exporter": "python",
   "pygments_lexer": "ipython3",
   "version": "3.13.2"
  }
 },
 "nbformat": 4,
 "nbformat_minor": 5
}
