{
 "cells": [
  {
   "cell_type": "markdown",
   "id": "3b0c2321",
   "metadata": {},
   "source": [
    "#### 1. Kadane's Algorithm : Maximum Subarray Sum in an Array"
   ]
  },
  {
   "cell_type": "markdown",
   "id": "b384dd62",
   "metadata": {
    "vscode": {
     "languageId": "plaintext"
    }
   },
   "source": [
    "Problem Statement: Given an integer array arr, find the contiguous subarray (containing at least one number) which\n",
    "has the largest sum and returns its sum and prints the subarray.\n",
    "\n",
    "Example 1:\n",
    "\n",
    "Input: arr = [-2,1,-3,4,-1,2,1,-5,4] \n",
    "\n",
    "Output: 6 \n",
    "\n",
    "Explanation: [4,-1,2,1] has the largest sum = 6. \n",
    "\n",
    "Examples 2: \n",
    "\n",
    "Input: arr = [1] \n",
    "\n",
    "Output: 1 \n",
    "\n",
    "Explanation: Array has only one element and which is giving positive sum of 1. "
   ]
  },
  {
   "cell_type": "code",
   "execution_count": null,
   "id": "124c922c",
   "metadata": {},
   "outputs": [
    {
     "name": "stdout",
     "output_type": "stream",
     "text": [
      "6\n"
     ]
    }
   ],
   "source": [
    "# Brute force  (O)->n^3.\n",
    "import sys\n",
    "arr = [-2,1,-3,4,-1,2,1,-5,4] \n",
    "maxi= -sys.maxsize-1\n",
    "\n",
    "for i in range(len(arr)):\n",
    "    for j in range(i,len(arr)):\n",
    "        sum = 0\n",
    "\n",
    "        for k in range(i,j+1):\n",
    "            sum = sum + arr[k]\n",
    "        \n",
    "        maxi = max(sum,maxi)    \n",
    "print(maxi)"
   ]
  },
  {
   "cell_type": "code",
   "execution_count": 44,
   "id": "b214fa60",
   "metadata": {},
   "outputs": [
    {
     "name": "stdout",
     "output_type": "stream",
     "text": [
      "6\n"
     ]
    }
   ],
   "source": [
    "# better approach (O)-> n^2.\n",
    "\n",
    "def maxsubarray_sum(arr,n):\n",
    "    maxi = -sys.maxsize-1\n",
    "\n",
    "    for i in range(n):\n",
    "        sum = 0\n",
    "        for j in range(i,n):\n",
    "\n",
    "            sum = sum + arr[j]\n",
    "\n",
    "            maxi= max(sum,maxi)\n",
    "    \n",
    "    return maxi\n",
    "\n",
    "arr = [-2,1,-3,4,-1,2,1,-5,4] \n",
    "n=9\n",
    "res = maxsubarray_sum(arr,n)\n",
    "print(res)\n"
   ]
  },
  {
   "cell_type": "code",
   "execution_count": null,
   "id": "91aeb2ea",
   "metadata": {},
   "outputs": [
    {
     "name": "stdout",
     "output_type": "stream",
     "text": [
      "6\n"
     ]
    }
   ],
   "source": [
    "# Optimal Approach  (O)-> n\n",
    "\n",
    "def maxSubarraySum(arr,n):\n",
    "    maxi = -sys.maxsize-1\n",
    "    sum=0\n",
    "     \n",
    "    for i in range(n):\n",
    "      sum = sum + arr[i]\n",
    "\n",
    "      if sum > maxi:\n",
    "          maxi = sum\n",
    "      \n",
    "      if sum < 0:\n",
    "         sum = 0\n",
    "         \n",
    "    return maxi\n",
    "\n",
    "\n",
    "arr = [-2,1,-3,4,-1,2,1,-5,4] \n",
    "n=9\n",
    "res = maxSubarraySum(arr,n)\n",
    "print(res)     \n"
   ]
  },
  {
   "cell_type": "markdown",
   "id": "7432eb45",
   "metadata": {},
   "source": [
    "#### 2. Problem Statement: You are given an array of prices where prices[i] is the price of a given stock on an ith day.\n",
    "\n",
    "You want to maximize your profit by choosing a single day to buy one stock and choosing a different day in the future to sell that stock. Return the maximum profit you can achieve from this transaction. If you cannot achieve any profit, return 0.\n",
    "\n",
    "Example 1:\n",
    "\n",
    "Input: prices = [7,1,5,3,6,4]\n",
    "Output: 5\n",
    "Explanation: Buy on day 2 (price = 1) and \n",
    "sell on day 5 (price = 6), profit = 6-1 = 5.\n",
    "\n",
    "Note: That buying on day 2 and selling on day 1 \n",
    "is not allowed because you must buy before \n",
    "you sell.\n",
    "\n",
    "Example 2:\n",
    "\n",
    "Input: prices = [7,6,4,3,1]\n",
    "Output: 0\n",
    "Explanation: In this case, no transactions are \n",
    "done and the max profit = 0."
   ]
  },
  {
   "cell_type": "code",
   "execution_count": 80,
   "id": "a34cfb25",
   "metadata": {},
   "outputs": [
    {
     "name": "stdout",
     "output_type": "stream",
     "text": [
      "5\n"
     ]
    }
   ],
   "source": [
    "# Brute Force  N(O)-> N^2\n",
    "\n",
    "prices = [7,1,5,3,6,4]\n",
    "# prices = [7,6,4,3,1]\n",
    "\n",
    "max_profit = 0\n",
    "\n",
    "for i in range(len(prices)):\n",
    "    for j in range(i+1,len(prices)):\n",
    "\n",
    "        if prices[j] > prices[i]:\n",
    "            profit = prices[j] - prices[i]\n",
    "\n",
    "            max_profit = max(profit,max_profit)\n",
    "\n",
    "print(max_profit)"
   ]
  },
  {
   "cell_type": "code",
   "execution_count": null,
   "id": "154d6cf2",
   "metadata": {},
   "outputs": [
    {
     "name": "stdout",
     "output_type": "stream",
     "text": [
      "0\n"
     ]
    }
   ],
   "source": [
    "#  Optimal Approach  (O)->n\n",
    "\n",
    "# prices = [7,1,5,3,6,4]\n",
    "prices = [7,6,4,3,1]\n",
    "def max_profit(arr):\n",
    "    max_profit = 0\n",
    "    min_price = float(\"inf\")\n",
    "\n",
    "    for i in range(len(prices)):\n",
    "        min_price =min(prices[i],min_price)\n",
    "        max_profit = max(prices[i]-min_price,max_profit)\n",
    "\n",
    "    return max_profit\n",
    "res = max_profit(prices)\n",
    "print(res)"
   ]
  },
  {
   "cell_type": "code",
   "execution_count": null,
   "id": "dc12d53e",
   "metadata": {},
   "outputs": [],
   "source": []
  }
 ],
 "metadata": {
  "kernelspec": {
   "display_name": ".venv (3.13.2)",
   "language": "python",
   "name": "python3"
  },
  "language_info": {
   "codemirror_mode": {
    "name": "ipython",
    "version": 3
   },
   "file_extension": ".py",
   "mimetype": "text/x-python",
   "name": "python",
   "nbconvert_exporter": "python",
   "pygments_lexer": "ipython3",
   "version": "3.13.2"
  }
 },
 "nbformat": 4,
 "nbformat_minor": 5
}
